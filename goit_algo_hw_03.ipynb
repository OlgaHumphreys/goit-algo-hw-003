{
  "nbformat": 4,
  "nbformat_minor": 0,
  "metadata": {
    "colab": {
      "provenance": [],
      "authorship_tag": "ABX9TyO5RA/EGz/GZzuraPiya/b3",
      "include_colab_link": true
    },
    "kernelspec": {
      "name": "python3",
      "display_name": "Python 3"
    },
    "language_info": {
      "name": "python"
    }
  },
  "cells": [
    {
      "cell_type": "markdown",
      "metadata": {
        "id": "view-in-github",
        "colab_type": "text"
      },
      "source": [
        "<a href=\"https://colab.research.google.com/github/OlgaHumphreys/goit-algo-hw-003/blob/main/goit_algo_hw_03.ipynb\" target=\"_parent\"><img src=\"https://colab.research.google.com/assets/colab-badge.svg\" alt=\"Open In Colab\"/></a>"
      ]
    },
    {
      "cell_type": "markdown",
      "source": [
        "Home work 3 - 1"
      ],
      "metadata": {
        "id": "yc-gN768ShFZ"
      }
    },
    {
      "cell_type": "code",
      "execution_count": 5,
      "metadata": {
        "colab": {
          "base_uri": "https://localhost:8080/",
          "height": 122
        },
        "id": "A_mnsT5PSRbZ",
        "outputId": "280d624f-f1b0-4fd4-9fad-cb5468d2f5cb"
      },
      "outputs": [
        {
          "output_type": "stream",
          "name": "stderr",
          "text": [
            "usage: colab_kernel_launcher.py [-h] src_dir [dst_dir]\n",
            "colab_kernel_launcher.py: error: unrecognized arguments: -f\n"
          ]
        },
        {
          "output_type": "error",
          "ename": "SystemExit",
          "evalue": "2",
          "traceback": [
            "An exception has occurred, use %tb to see the full traceback.\n",
            "\u001b[0;31mSystemExit\u001b[0m\u001b[0;31m:\u001b[0m 2\n"
          ]
        }
      ],
      "source": [
        "import argparse\n",
        "import shutil\n",
        "from pathlib import Path\n",
        "\n",
        "def parse_arguments():\n",
        "    parser = argparse.ArgumentParser(description=\"Recursive file copier and sorter\")\n",
        "    parser.add_argument(\"src_dir\", help=\"Source directory path\")\n",
        "    parser.add_argument(\"dst_dir\", nargs=\"?\", default=\"dist\", help=\"Destination directory path (default: dist)\")\n",
        "    return parser.parse_args()\n",
        "\n",
        "def copy_files(src_dir, dst_dir):\n",
        "    try:\n",
        "        # Create destination directory if it does not exist\n",
        "        #Path(dst_dir).mkdir(parents=True, exist_ok=True)\n",
        "\n",
        "        for item in os.listdir(src_dir):\n",
        "            s = os.path.join(src_dir, item)\n",
        "            if os.path.isdir(s):\n",
        "                # Recursive call if the item is a directory\n",
        "                copy_files(s, dst_dir)\n",
        "            else:\n",
        "                # Get file extension and create corresponding directory\n",
        "                file_ext = os.path.splitext(item)[1][1:].lower()  # Removing dot from extension\n",
        "                ext_dir = os.path.join(dst_dir, file_ext)\n",
        "                Path(ext_dir).mkdir(parents=True, exist_ok=True)\n",
        "\n",
        "                # Copy file to the new directory\n",
        "                shutil.copy2(s, ext_dir)\n",
        "                print(f\"Copied {s} to {ext_dir}\")\n",
        "\n",
        "    except Exception as e:\n",
        "        print(f\"Error: {e}\")\n",
        "\n",
        "def main():\n",
        "    args = parse_arguments()\n",
        "    src_dir = args.src_dir\n",
        "    dst_dir = args.dst_dir\n",
        "\n",
        "    if not os.path.isdir(src_dir):\n",
        "        print(f\"Source directory {src_dir} does not exist.\")\n",
        "        sys.exit(1)\n",
        "\n",
        "    copy_files(src_dir, dst_dir)\n",
        "    print(f\"Files from {src_dir} have been copied and sorted in {dst_dir}.\")\n",
        "\n",
        "if __name__ == \"__main__\":\n",
        "    main()\n"
      ]
    },
    {
      "cell_type": "code",
      "source": [
        "import argparse\n",
        "import shutil\n",
        "from pathlib import Path\n",
        "import os\n",
        "import sys\n",
        "\n",
        "def parse_arguments():\n",
        "    parser = argparse.ArgumentParser(description=\"Recursive file copier and sorter\")\n",
        "    parser.add_argument(\"src_dir\", help=\"Source directory path\")\n",
        "    parser.add_argument(\"dst_dir\", nargs=\"?\", default=\"dist\", help=\"Destination directory path (default: dist)\")\n",
        "    return parser.parse_args()\n",
        "\n",
        "def copy_files(src_dir, dst_dir):\n",
        "    try:\n",
        "\n",
        "        for item in os.listdir(src_dir):\n",
        "            s = os.path.join(src_dir, item)\n",
        "            if os.path.isdir(s):\n",
        "                # Recursive call if the item is a directory\n",
        "                copy_files(s, dst_dir)\n",
        "            else:\n",
        "                # Get file extension and create corresponding directory\n",
        "                file_ext = os.path.splitext(item)[1][1:].lower()  # Removing dot from extension\n",
        "                ext_dir = os.path.join(dst_dir, file_ext)\n",
        "                Path(ext_dir).mkdir(parents=True, exist_ok=True)\n",
        "\n",
        "                # Copy file to the new directory\n",
        "                shutil.copy2(s, ext_dir)\n",
        "                print(f\"Copied {s} to {ext_dir}\")\n",
        "\n",
        "    except Exception as e:\n",
        "        print(f\"Error: {e}\")\n",
        "\n",
        "def main():\n",
        "    args = parse_arguments()\n",
        "    src_dir = args.src_dir\n",
        "    dst_dir = args.dst_dir\n",
        "\n",
        "    if not os.path.isdir(src_dir):\n",
        "        print(f\"Source directory {src_dir} does not exist.\")\n",
        "        sys.exit(1) # Exit with a status code indicating an error\n",
        "\n",
        "    copy_files(src_dir, dst_dir)\n",
        "    print(f\"Files from {src_dir} have been copied and sorted in {dst_dir}.\")\n",
        "\n",
        "if __name__ == \"__main__\":\n",
        "    main()"
      ],
      "metadata": {
        "colab": {
          "base_uri": "https://localhost:8080/",
          "height": 176
        },
        "id": "xONokhKeizen",
        "outputId": "4bde294a-700a-4509-cb40-8a9c1bb4423f"
      },
      "execution_count": 1,
      "outputs": [
        {
          "output_type": "stream",
          "name": "stderr",
          "text": [
            "usage: colab_kernel_launcher.py [-h] src_dir [dst_dir]\n",
            "colab_kernel_launcher.py: error: unrecognized arguments: -f\n"
          ]
        },
        {
          "output_type": "error",
          "ename": "SystemExit",
          "evalue": "2",
          "traceback": [
            "An exception has occurred, use %tb to see the full traceback.\n",
            "\u001b[0;31mSystemExit\u001b[0m\u001b[0;31m:\u001b[0m 2\n"
          ]
        },
        {
          "output_type": "stream",
          "name": "stderr",
          "text": [
            "/usr/local/lib/python3.10/dist-packages/IPython/core/interactiveshell.py:3561: UserWarning: To exit: use 'exit', 'quit', or Ctrl-D.\n",
            "  warn(\"To exit: use 'exit', 'quit', or Ctrl-D.\", stacklevel=1)\n"
          ]
        }
      ]
    },
    {
      "cell_type": "markdown",
      "source": [],
      "metadata": {
        "id": "qaZbfn5fSbh7"
      }
    },
    {
      "cell_type": "code",
      "source": [
        "import os\n",
        "import shutil\n",
        "import sys\n",
        "from pathlib import Path\n",
        "\n",
        "def parse_arguments():\n",
        "    import argparse\n",
        "    parser = argparse.ArgumentParser(description=\"Recursive file copier and sorter\")\n",
        "    parser.add_argument(\"src_dir\", help=\"Source directory path\")\n",
        "    parser.add_argument(\"dst_dir\", nargs=\"?\", default=\"dist\", help=\"Destination directory path (default: dist)\")\n",
        "    return parser.parse_args(sys.argv[1:])\n",
        "\n",
        "def copy_and_sort_files(src_dir, dst_dir):\n",
        "    try:\n",
        "        # Create destination directory if it does not exist\n",
        "        Path(dst_dir).mkdir(parents=True, exist_ok=True)\n",
        "\n",
        "        for item in os.listdir(src_dir):\n",
        "            s = os.path.join(src_dir, item)\n",
        "            if os.path.isdir(s):\n",
        "                # Recursive call if the item is a directory\n",
        "                copy_and_sort_files(s, dst_dir)\n",
        "            else:\n",
        "                # Get file extension and create corresponding directory\n",
        "                file_ext = os.path.splitext(item)[1][1:].lower()  # Removing dot from extension\n",
        "                ext_dir = os.path.join(dst_dir, file_ext)\n",
        "                Path(ext_dir).mkdir(parents=True, exist_ok=True)\n",
        "\n",
        "                # Copy file to the new directory\n",
        "                shutil.copy2(s, ext_dir)\n",
        "                print(f\"Copied {s} to {ext_dir}\")\n",
        "\n",
        "    except Exception as e:\n",
        "        print(f\"Error: {e}\")\n",
        "\n",
        "def main():\n",
        "    args = parse_arguments()\n",
        "    src_dir = args.src_dir\n",
        "    dst_dir = args.dst_dir\n",
        "\n",
        "    if not os.path.isdir(src_dir):\n",
        "        print(f\"Source directory {src_dir} does not exist.\")\n",
        "        sys.exit(1)\n",
        "\n",
        "    copy_and_sort_files(src_dir, dst_dir)\n",
        "    print(f\"Files from {src_dir} have been copied and sorted in {dst_dir}.\")\n",
        "\n",
        "if __name__ == \"__main__\":\n",
        "    main()\n"
      ],
      "metadata": {
        "colab": {
          "base_uri": "https://localhost:8080/",
          "height": 122
        },
        "id": "LsYNsnh0lSLU",
        "outputId": "5fe24a9e-7dad-44ef-f94b-de9e5801e1ba"
      },
      "execution_count": 7,
      "outputs": [
        {
          "output_type": "stream",
          "name": "stderr",
          "text": [
            "usage: colab_kernel_launcher.py [-h] src_dir [dst_dir]\n",
            "colab_kernel_launcher.py: error: unrecognized arguments: -f\n"
          ]
        },
        {
          "output_type": "error",
          "ename": "SystemExit",
          "evalue": "2",
          "traceback": [
            "An exception has occurred, use %tb to see the full traceback.\n",
            "\u001b[0;31mSystemExit\u001b[0m\u001b[0;31m:\u001b[0m 2\n"
          ]
        }
      ]
    },
    {
      "cell_type": "markdown",
      "source": [
        "Home work 3.2\n"
      ],
      "metadata": {
        "id": "FiFKjdDknizO"
      }
    },
    {
      "cell_type": "code",
      "source": [
        "import turtle\n",
        "\n",
        "def draw_koch_segment(t, length, level):\n",
        "    if level == 0:\n",
        "        t.forward(length)\n",
        "    else:\n",
        "        length /= 3.0\n",
        "        draw_koch_segment(t, length, level-1)\n",
        "        t.left(60)\n",
        "        draw_koch_segment(t, length, level-1)\n",
        "        t.right(120)\n",
        "        draw_koch_segment(t, length, level-1)\n",
        "        t.left(60)\n",
        "        draw_koch_segment(t, length, level-1)\n",
        "\n",
        "def draw_koch_snowflake(t, length, level):\n",
        "    for _ in range(3):\n",
        "        draw_koch_segment(t, length, level)\n",
        "        t.right(120)\n",
        "\n",
        "def main():\n",
        "\n",
        "    level = int(input(\"Введіть рівень рекурсії (наприклад, 4): \"))\n",
        "\n",
        "    t.penup()\n",
        "    t.goto(-200, 100)\n",
        "    t.pendown()\n",
        "\n",
        "    length = 400\n",
        "    draw_koch_snowflake(t, length, level)\n",
        "\n",
        "    turtle.done()\n",
        "\n",
        "if __name__ == \"__main__\":\n",
        "    main()\n"
      ],
      "metadata": {
        "colab": {
          "base_uri": "https://localhost:8080/",
          "height": 309
        },
        "id": "_Fg0KZHhnnr4",
        "outputId": "8c8f0290-3b06-4cbb-9369-9045b2fa4374"
      },
      "execution_count": 6,
      "outputs": [
        {
          "name": "stdout",
          "output_type": "stream",
          "text": [
            "Введіть рівень рекурсії (наприклад, 4): 4\n"
          ]
        },
        {
          "output_type": "error",
          "ename": "NameError",
          "evalue": "name 't' is not defined",
          "traceback": [
            "\u001b[0;31m---------------------------------------------------------------------------\u001b[0m",
            "\u001b[0;31mNameError\u001b[0m                                 Traceback (most recent call last)",
            "\u001b[0;32m<ipython-input-6-809e7811e3c2>\u001b[0m in \u001b[0;36m<cell line: 39>\u001b[0;34m()\u001b[0m\n\u001b[1;32m     38\u001b[0m \u001b[0;34m\u001b[0m\u001b[0m\n\u001b[1;32m     39\u001b[0m \u001b[0;32mif\u001b[0m \u001b[0m__name__\u001b[0m \u001b[0;34m==\u001b[0m \u001b[0;34m\"__main__\"\u001b[0m\u001b[0;34m:\u001b[0m\u001b[0;34m\u001b[0m\u001b[0;34m\u001b[0m\u001b[0m\n\u001b[0;32m---> 40\u001b[0;31m     \u001b[0mmain\u001b[0m\u001b[0;34m(\u001b[0m\u001b[0;34m)\u001b[0m\u001b[0;34m\u001b[0m\u001b[0;34m\u001b[0m\u001b[0m\n\u001b[0m",
            "\u001b[0;32m<ipython-input-6-809e7811e3c2>\u001b[0m in \u001b[0;36mmain\u001b[0;34m()\u001b[0m\n\u001b[1;32m     28\u001b[0m     \u001b[0mlevel\u001b[0m \u001b[0;34m=\u001b[0m \u001b[0mint\u001b[0m\u001b[0;34m(\u001b[0m\u001b[0minput\u001b[0m\u001b[0;34m(\u001b[0m\u001b[0;34m\"Введіть рівень рекурсії (наприклад, 4): \"\u001b[0m\u001b[0;34m)\u001b[0m\u001b[0;34m)\u001b[0m\u001b[0;34m\u001b[0m\u001b[0;34m\u001b[0m\u001b[0m\n\u001b[1;32m     29\u001b[0m \u001b[0;34m\u001b[0m\u001b[0m\n\u001b[0;32m---> 30\u001b[0;31m     \u001b[0mt\u001b[0m\u001b[0;34m.\u001b[0m\u001b[0mpenup\u001b[0m\u001b[0;34m(\u001b[0m\u001b[0;34m)\u001b[0m\u001b[0;34m\u001b[0m\u001b[0;34m\u001b[0m\u001b[0m\n\u001b[0m\u001b[1;32m     31\u001b[0m     \u001b[0mt\u001b[0m\u001b[0;34m.\u001b[0m\u001b[0mgoto\u001b[0m\u001b[0;34m(\u001b[0m\u001b[0;34m-\u001b[0m\u001b[0;36m200\u001b[0m\u001b[0;34m,\u001b[0m \u001b[0;36m100\u001b[0m\u001b[0;34m)\u001b[0m\u001b[0;34m\u001b[0m\u001b[0;34m\u001b[0m\u001b[0m\n\u001b[1;32m     32\u001b[0m     \u001b[0mt\u001b[0m\u001b[0;34m.\u001b[0m\u001b[0mpendown\u001b[0m\u001b[0;34m(\u001b[0m\u001b[0;34m)\u001b[0m\u001b[0;34m\u001b[0m\u001b[0;34m\u001b[0m\u001b[0m\n",
            "\u001b[0;31mNameError\u001b[0m: name 't' is not defined"
          ]
        }
      ]
    },
    {
      "cell_type": "markdown",
      "source": [
        "Функція draw_koch_segment:\n",
        "Ця функція малює один сегмент кривої Коха. Якщо рівень рекурсії дорівнює 0, малюється пряма лінія. Інакше сегмент ділиться на три частини, і функція викликає сама себе чотири рази для кожного підсегмента з відповідними поворотами."
      ],
      "metadata": {
        "id": "6cPTXLfjn03J"
      }
    },
    {
      "cell_type": "code",
      "source": [
        "def draw_koch_segment(t, length, level):\n",
        "    if level == 0:\n",
        "        t.forward(length)\n",
        "    else:\n",
        "        length /= 3.0\n",
        "        draw_koch_segment(t, length, level-1)\n",
        "        t.left(60)\n",
        "        draw_koch_segment(t, length, level-1)\n",
        "        t.right(120)\n",
        "        draw_koch_segment(t, length, level-1)\n",
        "        t.left(60)\n",
        "        draw_koch_segment(t, length, level-1)\n"
      ],
      "metadata": {
        "id": "r6BRRQTVn5hh"
      },
      "execution_count": 7,
      "outputs": []
    },
    {
      "cell_type": "markdown",
      "source": [
        "Функція draw_koch_snowflake:\n",
        "Ця функція малює сніжинку Коха, яка складається з трьох сегментів кривої Коха."
      ],
      "metadata": {
        "id": "b_Q6x7-3n8_J"
      }
    },
    {
      "cell_type": "code",
      "source": [
        "def draw_koch_snowflake(t, length, level):\n",
        "    for _ in range(3):\n",
        "        draw_koch_segment(t, length, level)\n",
        "        t.right(120)\n"
      ],
      "metadata": {
        "id": "fSJxAcyIoC3v"
      },
      "execution_count": 8,
      "outputs": []
    },
    {
      "cell_type": "markdown",
      "source": [
        "Функція main:\n",
        "Налаштовує екран і черепашку (turtle), отримує рівень рекурсії від користувача, переміщує черепашку в стартову позицію і викликає функцію для малювання сніжинки Коха."
      ],
      "metadata": {
        "id": "pCjvpMB2oH0p"
      }
    },
    {
      "cell_type": "code",
      "source": [
        "def main():\n",
        "    screen = turtle.Screen()\n",
        "    screen.setup(width=800, height=800)\n",
        "\n",
        "    t = turtle.Turtle()\n",
        "    t.speed(0)\n",
        "\n",
        "    level = int(input(\"Введіть рівень рекурсії (наприклад, 4): \"))\n",
        "\n",
        "    t.penup()\n",
        "    t.goto(-200, 100)\n",
        "    t.pendown()\n",
        "\n",
        "    length = 400\n",
        "    draw_koch_snowflake(t, length, level)\n",
        "\n",
        "    turtle.done()\n"
      ],
      "metadata": {
        "id": "TN1ncG60oJQR"
      },
      "execution_count": 11,
      "outputs": []
    }
  ]
}